{
 "cells": [
  {
   "cell_type": "code",
   "execution_count": 1,
   "metadata": {
    "colab": {},
    "colab_type": "code",
    "id": "aEoGdJejNEsC"
   },
   "outputs": [
    {
     "name": "stderr",
     "output_type": "stream",
     "text": [
      "Using TensorFlow backend.\n"
     ]
    }
   ],
   "source": [
    "#Manipulação de dados\n",
    "from PIL import Image\n",
    "import matplotlib.pyplot as plt\n",
    "import numpy as np\n",
    "\n",
    "#Keras\n",
    "import keras\n",
    "from keras import models\n",
    "from keras.models import load_model\n",
    "from keras.models import Sequential\n",
    "from keras.layers import Dense, Dropout, Flatten\n",
    "from keras.layers import Conv2D, MaxPooling2D, AveragePooling2D\n",
    "#To get the name of the images in a list\n",
    "import glob\n",
    "from random import shuffle\n",
    "# import BatchNormalization\n",
    "from keras.layers.normalization import BatchNormalization\n",
    "\n",
    "from mlxtend.plotting import plot_confusion_matrix\n",
    "from sklearn.metrics import confusion_matrix"
   ]
  },
  {
   "cell_type": "code",
   "execution_count": 2,
   "metadata": {
    "colab": {},
    "colab_type": "code",
    "id": "RKD6OhBgOIU0"
   },
   "outputs": [],
   "source": [
    "IMG_SIZE = 128 #Reflects on main memory consumption'"
   ]
  },
  {
   "cell_type": "markdown",
   "metadata": {
    "colab": {},
    "colab_type": "code",
    "id": "zFHbP8zbORFN"
   },
   "source": [
    "#Create initial model\n",
    "modelo = Sequential()\n",
    "\n",
    "#modelo.add(Conv2D(10, (3, 3), activation='relu', input_shape=(IMG_SIZE, IMG_SIZE, 1)))\n",
    "modelo.add(Conv2D(10, (3, 3), activation='relu', input_shape=(IMG_SIZE, IMG_SIZE, 3)))\n",
    "modelo.add(MaxPooling2D(pool_size=(2, 2)))\n",
    "modelo.add(MaxPooling2D(pool_size=(2, 2)))\n",
    "modelo.add(MaxPooling2D(pool_size=(2, 2)))\n",
    "modelo.add(Flatten())\n",
    "\n",
    "#evitar over fit\n",
    "modelo.add(Dropout(0.5))\n",
    "\n",
    "modelo.add(Dense(10, activation='relu'))\n",
    "modelo.add(Dense(10, activation='relu'))\n",
    "modelo.add(Dense(10, activation='relu'))\n",
    "modelo.add(Dense(10, activation='relu'))\n",
    "modelo.add(Dense(10, activation='relu'))\n",
    "modelo.add(Dense(10, activation='relu'))\n",
    "\n",
    "modelo.add(Dense(1, activation='relu'))"
   ]
  },
  {
   "cell_type": "code",
   "execution_count": 16,
   "metadata": {},
   "outputs": [],
   "source": [
    "modelo = Sequential()\n",
    "modelo.add(Conv2D(32, kernel_size = (3, 3), activation='relu', input_shape=(IMG_SIZE, IMG_SIZE, 3)))\n",
    "modelo.add(MaxPooling2D(pool_size=(2,2)))\n",
    "modelo.add(BatchNormalization())\n",
    "\n",
    "modelo.add(Conv2D(64, kernel_size=(3,3), activation='relu'))\n",
    "modelo.add(AveragePooling2D(pool_size=(2,2)))\n",
    "modelo.add(BatchNormalization())\n",
    "model.add(Dropout(0.25))\n",
    "\n",
    "modelo.add(Conv2D(128, kernel_size=(3,3), activation='relu'))\n",
    "modelo.add(AveragePooling2D(pool_size=(2,2)))\n",
    "modelo.add(BatchNormalization())\n",
    "model.add(Dropout(0.25))\n",
    "\n",
    "modelo.add(Conv2D(512, kernel_size=(3,3), activation='relu'))\n",
    "modelo.add(AveragePooling2D(pool_size=(2,2)))\n",
    "modelo.add(BatchNormalization())\n",
    "model.add(Dropout(0.25))\n",
    "\n",
    "modelo.add(Conv2D(64, kernel_size=(3,3), activation='relu'))\n",
    "modelo.add(AveragePooling2D(pool_size=(2,2)))\n",
    "modelo.add(BatchNormalization())\n",
    "model.add(Dropout(0.25))\n",
    "\n",
    "modelo.add(Flatten())\n",
    "\n",
    "modelo.add(Dense(512, activation='relu'))\n",
    "modelo.add(BatchNormalization())\n",
    "modelo.add(Dropout(0.3))\n",
    "\n",
    "modelo.add(Dense(64, activation='relu'))\n",
    "modelo.add(Dropout(0.3))\n",
    "\n",
    "#modelo.add(Dense(32, activation='relu'))\n",
    "#modelo.add(Dropout(0.3))\n",
    "\n",
    "#modelo.add(Dense(8, activation='relu'))\n",
    "#modelo.add(Dropout(0.3))\n",
    "\n",
    "modelo.add(Dense(2, activation = 'softmax'))\n",
    "\n",
    "modelo.compile(loss='binary_crossentropy', optimizer='adam', metrics = ['accuracy'])"
   ]
  },
  {
   "cell_type": "code",
   "execution_count": 12,
   "metadata": {
    "collapsed": true
   },
   "outputs": [
    {
     "name": "stdout",
     "output_type": "stream",
     "text": [
      "_________________________________________________________________\n",
      "Layer (type)                 Output Shape              Param #   \n",
      "=================================================================\n",
      "conv2d_7 (Conv2D)            (None, 126, 126, 32)      896       \n",
      "_________________________________________________________________\n",
      "max_pooling2d_7 (MaxPooling2 (None, 63, 63, 32)        0         \n",
      "_________________________________________________________________\n",
      "batch_normalization_9 (Batch (None, 63, 63, 32)        128       \n",
      "_________________________________________________________________\n",
      "dropout_9 (Dropout)          (None, 63, 63, 32)        0         \n",
      "_________________________________________________________________\n",
      "conv2d_8 (Conv2D)            (None, 61, 61, 64)        18496     \n",
      "_________________________________________________________________\n",
      "max_pooling2d_8 (MaxPooling2 (None, 30, 30, 64)        0         \n",
      "_________________________________________________________________\n",
      "batch_normalization_10 (Batc (None, 30, 30, 64)        256       \n",
      "_________________________________________________________________\n",
      "dropout_10 (Dropout)         (None, 30, 30, 64)        0         \n",
      "_________________________________________________________________\n",
      "conv2d_9 (Conv2D)            (None, 28, 28, 128)       73856     \n",
      "_________________________________________________________________\n",
      "max_pooling2d_9 (MaxPooling2 (None, 14, 14, 128)       0         \n",
      "_________________________________________________________________\n",
      "batch_normalization_11 (Batc (None, 14, 14, 128)       512       \n",
      "_________________________________________________________________\n",
      "dropout_11 (Dropout)         (None, 14, 14, 128)       0         \n",
      "_________________________________________________________________\n",
      "flatten_3 (Flatten)          (None, 25088)             0         \n",
      "_________________________________________________________________\n",
      "dense_5 (Dense)              (None, 512)               12845568  \n",
      "_________________________________________________________________\n",
      "batch_normalization_12 (Batc (None, 512)               2048      \n",
      "_________________________________________________________________\n",
      "dropout_12 (Dropout)         (None, 512)               0         \n",
      "_________________________________________________________________\n",
      "dense_6 (Dense)              (None, 1)                 513       \n",
      "=================================================================\n",
      "Total params: 12,942,273\n",
      "Trainable params: 12,940,801\n",
      "Non-trainable params: 1,472\n",
      "_________________________________________________________________\n"
     ]
    }
   ],
   "source": [
    "from keras.models import Sequential\n",
    "from keras.layers import Conv2D, MaxPooling2D, Dropout, Flatten, Dense, Activation, BatchNormalization\n",
    "\n",
    "model = Sequential()\n",
    "\n",
    "model.add(Conv2D(32, (3, 3), activation='relu', input_shape=(IMG_SIZE, IMG_SIZE, 3)))\n",
    "model.add(MaxPooling2D(pool_size=(2, 2)))\n",
    "model.add(BatchNormalization())\n",
    "model.add(Dropout(0.25))\n",
    "\n",
    "model.add(Conv2D(64, (3, 3), activation='relu'))\n",
    "model.add(MaxPooling2D(pool_size=(2, 2)))\n",
    "model.add(BatchNormalization())\n",
    "model.add(Dropout(0.25))\n",
    "\n",
    "model.add(Conv2D(128, (3, 3), activation='relu'))\n",
    "model.add(MaxPooling2D(pool_size=(2, 2)))\n",
    "model.add(BatchNormalization())\n",
    "model.add(Dropout(0.25))\n",
    "\n",
    "model.add(Flatten())\n",
    "model.add(Dense(512, activation='relu'))\n",
    "model.add(BatchNormalization())\n",
    "model.add(Dropout(0.5))\n",
    "model.add(Dense(2, activation='softmax')) # 2 because we have cat and dog classes\n",
    "\n",
    "model.compile(loss='categorical_crossentropy', optimizer='rmsprop', metrics=['accuracy'])\n",
    "\n",
    "model.summary()"
   ]
  },
  {
   "cell_type": "markdown",
   "metadata": {
    "colab": {
     "base_uri": "https://localhost:8080/",
     "height": 348
    },
    "colab_type": "code",
    "executionInfo": {
     "elapsed": 965,
     "status": "ok",
     "timestamp": 1583089550106,
     "user": {
      "displayName": "danieç",
      "photoUrl": "https://lh3.googleusercontent.com/a-/AOh14GipL-aL62x6Ci57HcfhCusGUPLIMppB1iW7jAnU=s64",
      "userId": "03327078750242312191"
     },
     "user_tz": 180
    },
    "id": "4DRdvW-IOog2",
    "outputId": "94374ac6-84b8-4820-8d1e-cad082ee6e62"
   },
   "source": [
    "modelo.summary()"
   ]
  },
  {
   "cell_type": "markdown",
   "metadata": {
    "colab": {},
    "colab_type": "code",
    "id": "mOkrxqlORudG"
   },
   "source": [
    "#Compilation\n",
    "modelo.compile(loss='binary_crossentropy', optimizer='adam', metrics = ['accuracy'])"
   ]
  },
  {
   "cell_type": "code",
   "execution_count": 18,
   "metadata": {
    "colab": {},
    "colab_type": "code",
    "id": "DSmapapRTGXy"
   },
   "outputs": [],
   "source": [
    "def load_training_data():\n",
    "  train_cats = glob.glob(\"dogs-vs-cats/train/cat.*\")\n",
    "  train_dogs = glob.glob(\"dogs-vs-cats/train/dog.*\")\n",
    "  train_data = []\n",
    "\n",
    "  for img in train_cats:\n",
    "        img = Image.open(img)\n",
    "        img = img.resize((IMG_SIZE, IMG_SIZE), Image.ANTIALIAS)\n",
    "        train_data.append([np.array(img), [1,0]])\n",
    "\n",
    "  for img in train_dogs:\n",
    "        img = Image.open(img)\n",
    "        img = img.resize((IMG_SIZE, IMG_SIZE), Image.ANTIALIAS)\n",
    "        train_data.append([np.array(img), [0,1]])\n",
    "  shuffle(train_data)\n",
    "  return train_data"
   ]
  },
  {
   "cell_type": "code",
   "execution_count": 19,
   "metadata": {
    "colab": {},
    "colab_type": "code",
    "id": "y0W5uOslTySm"
   },
   "outputs": [],
   "source": [
    "dataset = load_training_data()"
   ]
  },
  {
   "cell_type": "code",
   "execution_count": 20,
   "metadata": {
    "colab": {
     "base_uri": "https://localhost:8080/",
     "height": 287
    },
    "colab_type": "code",
    "executionInfo": {
     "elapsed": 1133,
     "status": "ok",
     "timestamp": 1583089626474,
     "user": {
      "displayName": "danieç",
      "photoUrl": "https://lh3.googleusercontent.com/a-/AOh14GipL-aL62x6Ci57HcfhCusGUPLIMppB1iW7jAnU=s64",
      "userId": "03327078750242312191"
     },
     "user_tz": 180
    },
    "id": "zjvVfVz-XNZw",
    "outputId": "ae057e37-4a24-439e-e18b-e316d0f44700"
   },
   "outputs": [
    {
     "data": {
      "text/plain": [
       "<matplotlib.image.AxesImage at 0x7f83601e1198>"
      ]
     },
     "execution_count": 20,
     "metadata": {},
     "output_type": "execute_result"
    },
    {
     "data": {
      "image/png": "[encoded data removed]",
      "text/plain": [
       "<Figure size 432x288 with 1 Axes>"
      ]
     },
     "metadata": {
      "needs_background": "light"
     },
     "output_type": "display_data"
    }
   ],
   "source": [
    "plt.imshow(dataset[6][0])"
   ]
  },
  {
   "cell_type": "code",
   "execution_count": 21,
   "metadata": {
    "colab": {},
    "colab_type": "code",
    "id": "DEDLLUXeYJQg"
   },
   "outputs": [],
   "source": [
    "train_images = np.array([i[0] for i in dataset]).reshape(-1, IMG_SIZE, IMG_SIZE, 3)\n",
    "train_labels = np.array([i[1] for i in dataset])"
   ]
  },
  {
   "cell_type": "code",
   "execution_count": 22,
   "metadata": {},
   "outputs": [
    {
     "name": "stdout",
     "output_type": "stream",
     "text": [
      "Epoch 1/3\n",
      "25000/25000 [==============================] - 39s 2ms/step - loss: 0.6799 - acc: 0.6491\n",
      "Epoch 2/3\n",
      "25000/25000 [==============================] - 38s 2ms/step - loss: 0.5065 - acc: 0.7521\n",
      "Epoch 3/3\n",
      "25000/25000 [==============================] - 39s 2ms/step - loss: 0.4101 - acc: 0.8119\n"
     ]
    },
    {
     "data": {
      "text/plain": [
       "<keras.callbacks.History at 0x7f833872ea90>"
      ]
     },
     "execution_count": 22,
     "metadata": {},
     "output_type": "execute_result"
    }
   ],
   "source": [
    "modelo.fit(train_images, train_labels, epochs=3, verbose=1)"
   ]
  },
  {
   "cell_type": "code",
   "execution_count": null,
   "metadata": {},
   "outputs": [],
   "source": [
    "loss, acc = modelo.evaluate(test_images, test_labels, verbose = 0)\n",
    "print(acc * 100)"
   ]
  },
  {
   "cell_type": "code",
   "execution_count": null,
   "metadata": {},
   "outputs": [],
   "source": []
  }
 ],
 "metadata": {
  "colab": {
   "authorship_tag": "ABX9TyM+O3RDPbG2KD3MV1i4zmqj",
   "mount_file_id": "1_NF6xXytjTlhiMUtBpBXXct1l5skvvLP",
   "name": "cao e gato.ipynb",
   "provenance": [],
   "toc_visible": true
  },
  "kernelspec": {
   "display_name": "Python 3",
   "language": "python",
   "name": "python3"
  },
  "language_info": {
   "codemirror_mode": {
    "name": "ipython",
    "version": 3
   },
   "file_extension": ".py",
   "mimetype": "text/x-python",
   "name": "python",
   "nbconvert_exporter": "python",
   "pygments_lexer": "ipython3",
   "version": "3.6.8"
  }
 },
 "nbformat": 4,
 "nbformat_minor": 1
}
